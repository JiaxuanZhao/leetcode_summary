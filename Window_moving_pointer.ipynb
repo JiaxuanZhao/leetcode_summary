{
 "cells": [
  {
   "cell_type": "markdown",
   "metadata": {},
   "source": [
    "## Window moving pointer "
   ]
  },
  {
   "cell_type": "markdown",
   "metadata": {},
   "source": [
    "Different with sliding window because sliding window's lenght is fixed, k = 3 or k = 4,etc. The window length in here is not fixed."
   ]
  },
  {
   "cell_type": "code",
   "execution_count": null,
   "metadata": {},
   "outputs": [],
   "source": [
    "# template\n",
    "for(int i = 0; i < n; i++){\n",
    "    while(j < n){\n",
    "        if(){\n",
    "            j++;\n",
    "            update\n",
    "        }else{\n",
    "            break;\n",
    "        }\n",
    "    }\n",
    "    update i;\n",
    "}"
   ]
  },
  {
   "cell_type": "markdown",
   "metadata": {},
   "source": [
    "### Type 1: Mim size subarray so that sum > s"
   ]
  },
  {
   "cell_type": "code",
   "execution_count": null,
   "metadata": {},
   "outputs": [],
   "source": [
    "# O(N) even we have two loop, while only keep increasing, won't go back to 0\n",
    "public int minimunSize(int[] nums, int s){\n",
    "    int j = 0;\n",
    "    int i = 0;\n",
    "    int sum = 0;\n",
    "    int ans = Integer.MAX_VALUE();\n",
    "    for(i = 0; i < num.length, i++){\n",
    "        while(j < num.length && sum < s){\n",
    "            sum += nums[j];\n",
    "            j++;\n",
    "        }\n",
    "        if(sum >= s) ans = Math.min(ans, j-i);\n",
    "        \n",
    "        # here for instance: sum nums[0] to nums[3] > s, \n",
    "        # then it's possilble that nums[1] to nums[3] also > s.\n",
    "        # So you want to remove nums[0] and try nums[1].\n",
    "        # At this time, the j won't change, still nums[3]\n",
    "        sum -= nums[i];\n",
    "    }\n",
    "    if(ans = Integer.MAX_VALUE()) ans = -1;\n",
    "    return ans;\n",
    "}"
   ]
  },
  {
   "cell_type": "markdown",
   "metadata": {},
   "source": [
    "### Type 2: Find max substring w/o repeating value"
   ]
  },
  {
   "cell_type": "code",
   "execution_count": null,
   "metadata": {},
   "outputs": [],
   "source": [
    "# O(N)\n",
    "public int lengthOfLongestSubstring(String s){\n",
    "    int[] map = new int[256]; # ASCii includes 256 character. \n",
    "    Arrays.fill(map, 0); # fill map with 0\n",
    "    \n",
    "    int j = 0;\n",
    "    int i = 0;\n",
    "    int ans = 0;\n",
    "    for(int i = 0; i < s.length(); i++){\n",
    "        while(j < s.length() && map[s.charAt(j)] == 0){\n",
    "            map[s.charAt(j)] == 1;\n",
    "            ans = Math.min(ans, j-i+1);\n",
    "            j++;\n",
    "        }\n",
    "        map(s.charAt(j)) == 0;\n",
    "    }\n",
    "    return ans;\n",
    "}"
   ]
  },
  {
   "cell_type": "markdown",
   "metadata": {},
   "source": [
    "### Type 3: Min substring window"
   ]
  },
  {
   "cell_type": "code",
   "execution_count": null,
   "metadata": {},
   "outputs": [],
   "source": [
    "# O(N)\n",
    "int initTargetHash(int[] targethash, String Target){\n",
    "    int targetnum = 0;\n",
    "    for(char ch:Target.toCharArray()){\n",
    "        targetnum++;\n",
    "        targethash[ch]++; # store the character's appearing time\n",
    "    }\n",
    "    return targettrue;\n",
    "}\n",
    "\n",
    "boolean valid(int[] sourcehash, int[] targethash){\n",
    "    for(i = 0; i < 256; i++){\n",
    "        if(targerhash[i] > sourcehash[i]) return false;\n",
    "    }\n",
    "    return true;e\n",
    "}\n",
    "\n",
    "public String minWindow(String Source, String Target){\n",
    "    int ans = Integer.MAX_VALUE;\n",
    "    String minStr = \"\";\n",
    "    \n",
    "    int[] sourcehash = new int[256];\n",
    "    int[] targethash = new int[256];\n",
    "    \n",
    "    initTargetHash(targethash, Target);\n",
    "    int j = 0; i = 0;\n",
    "    for(i = 0; i < Srouce.length(); i++){\n",
    "        while(!valid(sourcehash, targethash) && j < source.length()){\n",
    "            sourcehash[Source.charAt(j)]++;\n",
    "            j++;\n",
    "        }\n",
    "        if(valid(sourcehas, targethash)){\n",
    "            if(ans > j-1){\n",
    "                ans = Math.min(ans, j-i);\n",
    "                minStr = Source.substring(i,j);\n",
    "            }\n",
    "        }\n",
    "        sourcehash[Source.charAt(i)]--;\n",
    "    }\n",
    "    return minStr;\n",
    "}"
   ]
  },
  {
   "cell_type": "markdown",
   "metadata": {},
   "source": [
    "### Type 4: Longest substring with at most k distinct character"
   ]
  },
  {
   "cell_type": "code",
   "execution_count": null,
   "metadata": {},
   "outputs": [],
   "source": [
    "# O(N)\n",
    "public int solution(String s, int k){\n",
    "    int maxlen = 0;\n",
    "    int i,j = 0;\n",
    "    char c;\n",
    "    map<Character, Integer> map = new HashMap<Character, Integer>();\n",
    "    for(i = 0; i < length, i++){\n",
    "        while(j < length){\n",
    "            c = s.chartAt(j);\n",
    "            if(map.containsKey(c)){\n",
    "                map.put(c,map.get(c)+1);\n",
    "            }else{\n",
    "                if(map.size == k) break; # max k distinct character\n",
    "                map.put(c,1);\n",
    "            }\n",
    "            j++;\n",
    "        }\n",
    "        \n",
    "        maxLen = Math.max(maxLen, j-1);\n",
    "        c = s.charAt(i);\n",
    "        # if map has c, if c.count > 1, then -1, else totally remove it\n",
    "        if(map has c){\n",
    "            int count = map.get(c);\n",
    "            if(count > 1) map.put(c,count-1);\n",
    "            else map.remove(c)\n",
    "        }\n",
    "    }\n",
    "    return maxLen\n",
    "}"
   ]
  },
  {
   "cell_type": "markdown",
   "metadata": {},
   "source": [
    "### Type 4: Find absolute min in two arrays"
   ]
  },
  {
   "cell_type": "code",
   "execution_count": null,
   "metadata": {},
   "outputs": [],
   "source": [
    "public int solution(int[] A, int[] B){\n",
    "    if(A = null || A.length = 0 || B = null || B.length == 0) return 0;\n",
    "    \n",
    "    Array.sort(A); Array.sort(B);\n",
    "    \n",
    "    int ai = 0, bi = 0;\n",
    "    int min = Integer.maxvalue();\n",
    "    \n",
    "    while(ai < A.length && bi < B.length){\n",
    "        min = Math.min(min, Math.abs(A[ai]-B[bi]));\n",
    "        if(A[ai] < B[bi]) ai++;\n",
    "        else bi++;\n",
    "    }\n",
    "    return min;\n",
    "}"
   ]
  }
 ],
 "metadata": {
  "kernelspec": {
   "display_name": "Python 3",
   "language": "python",
   "name": "python3"
  },
  "language_info": {
   "codemirror_mode": {
    "name": "ipython",
    "version": 3
   },
   "file_extension": ".py",
   "mimetype": "text/x-python",
   "name": "python",
   "nbconvert_exporter": "python",
   "pygments_lexer": "ipython3",
   "version": "3.6.8"
  }
 },
 "nbformat": 4,
 "nbformat_minor": 2
}
