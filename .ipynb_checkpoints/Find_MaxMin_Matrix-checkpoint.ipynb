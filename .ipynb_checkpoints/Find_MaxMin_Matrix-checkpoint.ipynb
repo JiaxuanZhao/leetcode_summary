{
 "cells": [
  {
   "cell_type": "markdown",
   "metadata": {},
   "source": [
    "## Find the max/min kth in matrix."
   ]
  },
  {
   "cell_type": "markdown",
   "metadata": {},
   "source": [
    "**Find min/max use heap. Sort first.**\n",
    "\n"
   ]
  },
  {
   "cell_type": "markdown",
   "metadata": {},
   "source": [
    "### Type 1: Find the k smallest in n lists."
   ]
  },
  {
   "cell_type": "markdown",
   "metadata": {},
   "source": [
    "For instance you have [2,3,9],[9,4,5],[8,6,1]. \n",
    "\n",
    "1. Sort the list for each one. [2,3,9],[4,5,9],[6,8,1]. \n",
    "2. Then first take heap list [2,4,5] and fid the min, then take the one right behind [2] and [3,4,5], take the min, etc. \n",
    "\n",
    "The complexity is $klog(n)$ since the heap list only have n items, then need to find k smallest, so is klog(n). Then since each list is not ordered first, so sort is $nlogn \\times n$. Total is $klog(n)+nlogn \\times n$."
   ]
  },
  {
   "cell_type": "markdown",
   "metadata": {},
   "source": [
    "### Type 2: Kth smallest sum in two sorted arrays. / Kth smallest product in arrays"
   ]
  },
  {
   "cell_type": "markdown",
   "metadata": {},
   "source": [
    "\n",
    "Array 1: $$\\begin{bmatrix} 1 & 1 & 11 \\end{bmatrix}$$\n",
    "Array 2: $$\\begin{bmatrix} 2 & 4 & 6 \\end{bmatrix}$$\n",
    "\n",
    "$$\\begin{bmatrix} 3 & 9 & 13 \\\\ 5 & 11 & 15 \\\\ 7 & 13 & 17 \\end{bmatrix}$$\n",
    "\n",
    "Increase from left to right, up to down."
   ]
  },
  {
   "cell_type": "code",
   "execution_count": null,
   "metadata": {},
   "outputs": [],
   "source": []
  }
 ],
 "metadata": {
  "kernelspec": {
   "display_name": "Python 3",
   "language": "python",
   "name": "python3"
  },
  "language_info": {
   "codemirror_mode": {
    "name": "ipython",
    "version": 3
   },
   "file_extension": ".py",
   "mimetype": "text/x-python",
   "name": "python",
   "nbconvert_exporter": "python",
   "pygments_lexer": "ipython3",
   "version": "3.6.8"
  }
 },
 "nbformat": 4,
 "nbformat_minor": 2
}
