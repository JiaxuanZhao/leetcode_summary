{
 "cells": [
  {
   "cell_type": "markdown",
   "metadata": {},
   "source": [
    "## Quick Select\n"
   ]
  },
  {
   "cell_type": "markdown",
   "metadata": {},
   "source": [
    "### Type 1: Find the 3rd max"
   ]
  },
  {
   "cell_type": "markdown",
   "metadata": {},
   "source": [
    "Option 1: use quicksort and find the num[2]. O(nlogn)\n",
    "    \n",
    "Option 2: add array to a heap and pop 3 times. Array to array is O(n), pop is O(logn). So total is O(n +klogn) k = 3. \n",
    "    \n",
    "    \n",
    "Option 3: quick select. \n",
    "    \n",
    "For instance start with [9,3,2,4,8] k = 3. First randomly choose a number, say 4, switch it with the first value, save it to pivot and remove it from the array. Then is [empty,3,2,9,8]. Then repeat the following two steps: 1. move R point to left. Now L point to empty, R point to R. If R bigger than pivot, then switch it with L. So [8,3,2,9,empty]. 2. move L point to right. Now L still point to 8, R point to empty. Then Now L = 8 bigger than 4, so move L to 3, smaller than 4. So move 3 with empty, [8,empty,2,9,3]. Repeat 1 and 2. R move to 9, L = empty, 9 > pivot, so [8,9,2,empty,3]. L now point to 9, R point to empty. Move L to 2, < 4, [8,9,empty,2,3]. Now L point to empty, R = 2. Then R move to empty = L. Add pivot, [8,9,4,2,3]. Left is larger than 4, right is smaller than 4. \n",
    "\n",
    "Since k = 3, then the ans is 4. \n",
    "\n",
    "If k = 2, then only need to search for left. If k = 4, only need to search right and change to k = 1.\n",
    "\n",
    "Complexity: O(N) + O(N/2) + O(N/4) + O(1) = O(N) since we first search for all N, then split into right and left, only search in those half, then keep spliting. "
   ]
  },
  {
   "cell_type": "code",
   "execution_count": null,
   "metadata": {},
   "outputs": [],
   "source": [
    "public int kthLargestElement(int k, int[] nums){\n",
    "    if(nums == null || nums.length == 0){\n",
    "        return 0;\n",
    "    }\n",
    "    \n",
    "    if(k <= 0) return 0;\n",
    "    \n",
    "    return helper(nums, 0, nums.length - 1, nums.length-k+1)\n",
    "}\n",
    "\n",
    "\n",
    "public int helper(int[] nums, int l, int r, int k){\n",
    "    if(l = r) return nums[l];\n",
    "    \n",
    "    int position = partition(nums, l ,r);\n",
    "    if(position + 1 == k){\n",
    "        return nums[position];\n",
    "    }else if(position + 1 < k){\n",
    "        return helper(nums, position + 1, r, k);\n",
    "    }else {\n",
    "        return helper(nums, l, position - 1, k);\n",
    "    }\n",
    "}\n",
    "\n",
    "# quick select template\n",
    "public int partition(int[] nums, int l, int r){\n",
    "    int left = l, right = r;\n",
    "    int pivot = nums[left];\n",
    "    \n",
    "    while(left < right){\n",
    "        while(left < right && nums[right] >= pivot){\n",
    "            right--;\n",
    "        }\n",
    "        nums[left] = nums[right]\n",
    "        while{left < right && nums[left] <= pivot}{\n",
    "            left++;\n",
    "        }\n",
    "        nums[right] = nums[left];\n",
    "    }\n",
    "    \n",
    "    nums[left] = pivot;\n",
    "    return left;\n",
    "}"
   ]
  },
  {
   "cell_type": "markdown",
   "metadata": {},
   "source": [
    "### Type 2: Find the match in two array"
   ]
  },
  {
   "cell_type": "markdown",
   "metadata": {},
   "source": [
    "You have two arrays. One bolt [aa,bb,dd,cc], one nut [BB,AA,DD,CC]. You need to find the match.\n",
    "\n",
    "1. Sort nut\n",
    "Choose a random pivot bb from bolt. \n",
    "    - Sort nut. For scan through the nut to find the match of pivot BB, swap BB with the nut[0]. Then set L = BB, R = CC. \n",
    "    - Move R to R-- until find value that is smaller than pivot. Swap L and R. So [BB,AA,DD,CC] to [AA,BB,DD,CC]. Then L = AA, R = BB.\n",
    "    - Move L to L++ until find value that is larger than pivot or L < R. Thus L = AA change to L = BB = R. \n",
    "    - When L = R, left is all smaller than pivot, right all larger than pivot. \n",
    "    \n",
    "2. Sort bolt.\n",
    "Use BB to sort bolt. For instance, we get [aa,bb,cc,dd].\n",
    "\n",
    "3. [aa,bb,cc,dd] [AA,BB,DD,CC]. Item on right [cc,dd] & [DD,CC] all larger than [bb][BB]. Item on left [aa] & [AA] all smaller than [bb][BB].\n",
    "\n",
    "4. Then partition of Right and left."
   ]
  },
  {
   "cell_type": "code",
   "execution_count": null,
   "metadata": {},
   "outputs": [],
   "source": [
    "public void sortNutsAndBolts(String[] nults, String[] bolts, NBComparator compare){\n",
    "    if (nuts == null || bolts == null) return;\n",
    "    if (nuts.length != bolts.length) return;\n",
    "    \n",
    "    qsort(nuts, bolts, compare, 0, nuts.length - 1);\n",
    "}\n",
    "\n",
    "private void qsort(String[] nuts, String[] bolts, NBComparator compare, int l, int u){\n",
    "    if (l >= u) return;\n",
    "    \n",
    "    # partition nut\n",
    "    int part_inx = partition(nuts, bolts[l], compare, l, u);\n",
    "    # partition bolt\n",
    "    partition(bolts, nuts[part_inx], l, u);\n",
    "    \n",
    "    # quick sort right and left\n",
    "    qsort(nuts, bolts, compare, l, part_inx - 1);\n",
    "    qsort(nuts, bolts, compare, part_inx + 1, u);\n",
    "}\n",
    "\n",
    "private int partition(String[] str, String pivot, NBComparator compare, int l, int u){\n",
    "    \n",
    "    # find the pivot's match, then change it to the first item.\n",
    "    for(int i = l; i <= u, i++){\n",
    "        if(compare.cmp(str[i], pivot) == 0 || compare.cmp(pivot, str[i]) == 0){\n",
    "            swap(str, i, l);\n",
    "            break;\n",
    "        }\n",
    "    }\n",
    "    \n",
    "    String now = str[l];\n",
    "    int left = l;\n",
    "    int right = u;\n",
    "    \n",
    "    while(left < right){\n",
    "        while(left < right && (compare.cmp(str[right],pivot) == -1 ||\n",
    "                              compare.cmp(pivot,str[right]) == 1)){\n",
    "            right--;\n",
    "        }\n",
    "        str[left] = str[right]; // change to swap\n",
    "        \n",
    "        while(left < right && (compare.cmp(str[right],pivot) == 1 ||\n",
    "                              compare.cmp(pivot,str[right]) == -1)){\n",
    "            left++;\n",
    "        }\n",
    "        str[right] = str[left]; // change to swap\n",
    "    }\n",
    "    str[left] = now;\n",
    "    return left;\n",
    "}"
   ]
  }
 ],
 "metadata": {
  "kernelspec": {
   "display_name": "Python 3",
   "language": "python",
   "name": "python3"
  },
  "language_info": {
   "codemirror_mode": {
    "name": "ipython",
    "version": 3
   },
   "file_extension": ".py",
   "mimetype": "text/x-python",
   "name": "python",
   "nbconvert_exporter": "python",
   "pygments_lexer": "ipython3",
   "version": "3.6.8"
  }
 },
 "nbformat": 4,
 "nbformat_minor": 2
}
