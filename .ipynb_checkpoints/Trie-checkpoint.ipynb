{
 "cells": [
  {
   "cell_type": "markdown",
   "metadata": {},
   "source": [
    "## Trie"
   ]
  },
  {
   "cell_type": "markdown",
   "metadata": {},
   "source": [
    "For instance you have [a, abc, abd, bcd]. You start with a root O, then add a to O; add a to O, add b to a, add c to b, etc. Then for every leaf node, make sure you have variable to represent it's the end of the word. "
   ]
  },
  {
   "cell_type": "markdown",
   "metadata": {},
   "source": [
    "### Hash vs Trie\n",
    "\n",
    "      Hash | Trie\n",
    "   \n",
    "Time: O(1) |  O(1)\n",
    "Space: Trie is better"
   ]
  },
  {
   "cell_type": "markdown",
   "metadata": {},
   "source": [
    "### Type: Find words in dictionary that can be found in the matrix"
   ]
  },
  {
   "cell_type": "markdown",
   "metadata": {},
   "source": [
    "Find Dictionary: [aca, acc] in matrix.\n",
    "\n",
    "$$\\begin{bmatrix} a & c & a & f \\\\ a & c & a & d \\\\ a & c & a & e \\end{bmatrix}$$\n",
    "\n",
    "Change the dictionary to Trie. Use dfs to scan through the matrix, and at the same time, search if the prefix exist in the Trie. "
   ]
  },
  {
   "cell_type": "code",
   "execution_count": null,
   "metadata": {},
   "outputs": [],
   "source": [
    "public int []dx = {1,0,-1,0};\n",
    "public int []dy = {0,1,0,-1};\n",
    "\n",
    "public void search(char[][] board, int x, int y, TrieNode root, ArrayList<string> ans, String res){\n",
    "    if(root.isString == true){\n",
    "        if(!ans.contains(root.s)){\n",
    "            ans.add(root.s);\n",
    "        }\n",
    "    }\n",
    "    if(x<0 || x >= board.length || y < 0 || y >= board[0].length || board[x][y] == 0 || root == null)\n",
    "        return;\n",
    "    if(root.subtree.containsKey(board[x][y])){\n",
    "        for(int i = 0; i < 4; i++){\n",
    "            char now = board[x][y];\n",
    "            board[x][y] = 0;\n",
    "            serch(board, x+dx[i], y+dy[i], root.subtree.get(now), ans, res);\n",
    "            board[x][y] = now;\n",
    "        }\n",
    "    }\n",
    "}\n",
    "\n",
    "public ArrayList<String> wordSearchII(char[][] board, ArrayList<String> words){\n",
    "    ArrayList<String> ans = new ArrayList<String>();\n",
    "    \n",
    "    TrieTree tree = new TrieTree(new TrieNode());\n",
    "    for(String word : words){\n",
    "        tree.insert(word);\n",
    "    }\n",
    "    String res = \"\";\n",
    "    for(int i = 0; i < board.length; i++){\n",
    "        for(int j = 0; j < board[i].length; j++){\n",
    "            search(board, i, j, tree.root, ans, res);\n",
    "        }\n",
    "    }\n",
    "    return ans;\n",
    "}\n"
   ]
  }
 ],
 "metadata": {
  "kernelspec": {
   "display_name": "Python 3",
   "language": "python",
   "name": "python3"
  },
  "language_info": {
   "codemirror_mode": {
    "name": "ipython",
    "version": 3
   },
   "file_extension": ".py",
   "mimetype": "text/x-python",
   "name": "python",
   "nbconvert_exporter": "python",
   "pygments_lexer": "ipython3",
   "version": "3.6.8"
  }
 },
 "nbformat": 4,
 "nbformat_minor": 2
}
