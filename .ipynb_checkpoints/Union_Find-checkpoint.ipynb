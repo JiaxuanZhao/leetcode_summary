{
 "cells": [
  {
   "cell_type": "markdown",
   "metadata": {},
   "source": [
    "## Union Find"
   ]
  },
  {
   "cell_type": "markdown",
   "metadata": {},
   "source": [
    "**Union, Find: O(1)**\n",
    "\n",
    "The point is to:\n",
    "- find whethe two points are in the same union. Find the root of item.\n",
    "- Combine lists. "
   ]
  },
  {
   "cell_type": "markdown",
   "metadata": {},
   "source": [
    "For instance, AC point to B, DF opint to E, E point to B.\n",
    "Use hash table:\n",
    "    \n",
    "key: A B C D E F   \n",
    "val: B B B E B E"
   ]
  },
  {
   "cell_type": "markdown",
   "metadata": {},
   "source": [
    "### Find Template "
   ]
  },
  {
   "cell_type": "code",
   "execution_count": null,
   "metadata": {},
   "outputs": [],
   "source": [
    "# O(n), if use Compress find, then change to O(1)\n",
    "HashMap<Integer, Integer> father = new Hashmap<Integer, Integer>();\n",
    "\n",
    "int find(int x){\n",
    "    int parent = x;\n",
    "    while(parent != father.get(parent)){\n",
    "        parent = father.get(parent);\n",
    "    }\n",
    "    return parent;\n",
    "}"
   ]
  },
  {
   "cell_type": "markdown",
   "metadata": {},
   "source": [
    "### Union(A, B) Template"
   ]
  },
  {
   "cell_type": "markdown",
   "metadata": {},
   "source": [
    "- Find the boss of A, B.\n",
    "- Set A boss parent to B boss."
   ]
  },
  {
   "cell_type": "code",
   "execution_count": null,
   "metadata": {},
   "outputs": [],
   "source": [
    "# O(n), if use Compress find, then change to O(1)\n",
    "void union(int x, int y){\n",
    "    int fa_x = find(x);\n",
    "    int fa_y = finnd(y);\n",
    "    if(fa_x != fa_y){\n",
    "        father.put(fa_x, fa_y);\n",
    "    }\n",
    "}"
   ]
  },
  {
   "cell_type": "markdown",
   "metadata": {},
   "source": [
    "### Compress find"
   ]
  },
  {
   "cell_type": "markdown",
   "metadata": {},
   "source": [
    "a -> b -> c -> d change to a -> d, b -> d, c -> d, d -> d. "
   ]
  },
  {
   "cell_type": "code",
   "execution_count": null,
   "metadata": {},
   "outputs": [],
   "source": [
    "# O(1)\n",
    "int compressed_find(int_x){\n",
    "    int parent = father.get(x)\n",
    "    while(parent != father.get(parent)){\n",
    "        parent = father.get(parent);\n",
    "    }\n",
    "    int next;\n",
    "    \n",
    "    while(x != father.get(x)){\n",
    "        next = father.get(x);\n",
    "        father.put(x,parent);\n",
    "        x = next\n",
    "    }\n",
    "    return parent;\n",
    "}"
   ]
  },
  {
   "cell_type": "markdown",
   "metadata": {},
   "source": [
    "### Type 1: Find connected item in undirected graph"
   ]
  },
  {
   "cell_type": "markdown",
   "metadata": {},
   "source": [
    "Find the chunck in list. For instance ABD, CE, then two chunks. \n",
    "\n",
    "Use **bfs** or that **dfs** (https://zhuanlan.zhihu.com/p/24986203). Find all the item connect to A and assign val = A. Then we know ABD already have val = A, then we skip BD and move to C and assign C to CE.\n",
    "\n",
    "key: A B C D E \n",
    "val: A A C A C"
   ]
  },
  {
   "cell_type": "markdown",
   "metadata": {},
   "source": [
    "### Type 2: Find number of islands"
   ]
  },
  {
   "cell_type": "markdown",
   "metadata": {},
   "source": [
    "1 is land, 0 is water. \n",
    "\n",
    "$$\\begin{bmatrix} 1 & 1 & 0 & 0 \\\\ 0 & 1 & 0 & 0 \\\\ 0 & 0 & 0 & 1 \\end{bmatrix}$$\n",
    "\n",
    "n = 3, m = 5\n",
    "\n",
    "Now change (x,y) to 1D id. id = xm + y, x = id/m, y = id mod m. \n",
    "For instance, (0,0) is 0, (0,1) is 1, (1,1) is 5. Then change to 0, 1 and 5 connected together.  \n",
    "\n",
    "Find number of islands = find number of chuncks. Use dfs or bfs."
   ]
  },
  {
   "cell_type": "markdown",
   "metadata": {},
   "source": [
    "### Type 3: Find number of islands as time pass by"
   ]
  },
  {
   "cell_type": "markdown",
   "metadata": {},
   "source": [
    "1 is land, 0 is water. \n",
    "\n",
    "$$\\begin{bmatrix} 0 & 0 & 0 & 0 \\\\ 0 & 0 & 0 & 0 \\\\ 0 & 0 & 0 & 0 \\end{bmatrix}$$\n",
    "\n",
    "(0,0) change to island\n",
    "\n",
    "$$\\begin{bmatrix} 1 & 0 & 0 & 0 \\\\ 0 & 0 & 0 & 0 \\\\ 0 & 0 & 0 & 0 \\end{bmatrix}$$\n",
    "\n",
    "(1,1) change to island\n",
    "\n",
    "$$\\begin{bmatrix} 1 & 0 & 0 & 0 \\\\ 0 & 1 & 0 & 0 \\\\ 0 & 0 & 0 & 0 \\end{bmatrix}$$\n",
    "\n",
    "(0,1) change to island\n",
    "\n",
    "$$\\begin{bmatrix} 1 & 1 & 0 & 0 \\\\ 0 & 1 & 0 & 0 \\\\ 0 & 0 & 0 & 0 \\end{bmatrix}$$\n",
    "\n",
    "n = 3, m = 5\n",
    "\n",
    "First make a hash table:\n",
    "\n",
    "$$\\begin{bmatrix} 0 & 1 & 2 & 3 & 4 & 5 & 6 & 7 & 8 & 9 & 10 & 11 \\\\ 0 & 1 & 2 & 3 & 4 & 5 & 6 & 7 & 8 & 9 & 10 & 11\\end{bmatrix}$$\n",
    "\n",
    "Then when (0,0) change to 1, check the UDLR, no change. When (1,1) change to 1, no change. When (0,1) change to 1, change 0 parent to 1, change 1 parent to 5. \n",
    "\n",
    "$$\\begin{bmatrix} 0 & 1 & 2 & 3 & 4 & 5 & 6 & 7 & 8 & 9 & 10 & 11 \\\\ 1 & 1 & 2 & 3 & 4 & 5 & 6 & 7 & 8 & 9 & 10 & 11\\end{bmatrix}$$\n",
    "\n",
    "$$\\begin{bmatrix} 0 & 1 & 2 & 3 & 4 & 5 & 6 & 7 & 8 & 9 & 10 & 11 \\\\ 1 & 5 & 2 & 3 & 4 & 5 & 6 & 7 & 8 & 9 & 10 & 11\\end{bmatrix}$$\n",
    "\n",
    "So for every change, we max will combine 4 times, so is 4 x O(1) = O(4). Then we have k changes, so O(4k) = O(k). At first, we need to set the hash table, so is O(nm). Then total is O(nm) + O(k)."
   ]
  },
  {
   "cell_type": "code",
   "execution_count": null,
   "metadata": {},
   "outputs": [],
   "source": []
  }
 ],
 "metadata": {
  "kernelspec": {
   "display_name": "Python 3",
   "language": "python",
   "name": "python3"
  },
  "language_info": {
   "codemirror_mode": {
    "name": "ipython",
    "version": 3
   },
   "file_extension": ".py",
   "mimetype": "text/x-python",
   "name": "python",
   "nbconvert_exporter": "python",
   "pygments_lexer": "ipython3",
   "version": "3.6.8"
  }
 },
 "nbformat": 4,
 "nbformat_minor": 2
}
