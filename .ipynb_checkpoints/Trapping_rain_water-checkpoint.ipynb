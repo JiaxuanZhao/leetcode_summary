{
 "cells": [
  {
   "cell_type": "markdown",
   "metadata": {},
   "source": [
    "## Trapping rain water"
   ]
  },
  {
   "cell_type": "markdown",
   "metadata": {},
   "source": [
    "If you see this adding water problem, then make two pointers and move them toward the middle. "
   ]
  },
  {
   "cell_type": "markdown",
   "metadata": {},
   "source": [
    "### Type 1: 1D water sink"
   ]
  },
  {
   "cell_type": "code",
   "execution_count": null,
   "metadata": {},
   "outputs": [],
   "source": [
    "public int trapRainWater(int[] heights){\n",
    "    int left = 0, right = heights.length - 1;\n",
    "    int res = 0;\n",
    "    if(left >= right) return res;\n",
    "    int leftheight = heights[left];\n",
    "    int rightheight = heights[right];\n",
    "    \n",
    "    while(left < right){\n",
    "        # if left height < right height, then dump water from left\n",
    "        if(leftheight < rightheight){\n",
    "            left ++; \n",
    "            # compare left height with the height next to it.\n",
    "            # if the next height is smaller, then we can add water\n",
    "            if(leftheight > heights[left]){\n",
    "                res += leftheight - heights[left];\n",
    "            }else{\n",
    "                leftheight = heights[left];\n",
    "            }\n",
    "        }else {\n",
    "            right --;\n",
    "            if(rightheight > heights[right]){\n",
    "                res += rightheight - heights[right];\n",
    "            }else{\n",
    "                rightheight = heights[right];\n",
    "            }\n",
    "        }\n",
    "    }\n",
    "    return res;\n",
    "}"
   ]
  },
  {
   "cell_type": "markdown",
   "metadata": {},
   "source": [
    "### Type 2: 2D water sink"
   ]
  },
  {
   "cell_type": "code",
   "execution_count": null,
   "metadata": {},
   "outputs": [],
   "source": [
    "public class Solution {\n",
    "    int []dx = {1,-1,0,0};\n",
    "    int []dy = {0,0,1,-1};\n",
    "    public int trapRainWater(int[][]heights){\n",
    "        if(heights.length == 0){\n",
    "            return 0;\n",
    "        }\n",
    "        PriorityQueue<Cell> q = new PriorityQueue<Cell>(1,new CellComparator());\n",
    "        int n = heights.length;\n",
    "        int m = heights[0].length;\n",
    "        int [][]visit = new int[n][m];\n",
    "        \n",
    "        # change the first and last column to 1 (already visit)\n",
    "        for(int i = 0; i < n; i++){\n",
    "            q.offer(new Cell(i,0,heights[i][0]));\n",
    "            q.offer(new Cell(i,m-1,heights[i][m-1]));\n",
    "            visit[i][0] = 1;\n",
    "            visit[i][m-1] = 1;\n",
    "        }\n",
    "        \n",
    "        # change the first and last row to 1 (already visit)\n",
    "        for(int i = 0; i < m; i++){\n",
    "            q.offer(new Cell(0,i,heights[0][i]));\n",
    "            q.offer(new Cell(n-1,i,heights[n-1][i]));\n",
    "            visit[0][i] = 1;\n",
    "            visit[n-1][i] = 1;\n",
    "        }\n",
    "        \n",
    "        int ans = 0;\n",
    "        while(!q.isEmpty()){\n",
    "            Cell now = q.poll(); # start with the min in the heap\n",
    "            for(int i = 0; i < 4; i++){\n",
    "                int nx = now.x + dx[i];\n",
    "                int ny = now.y + dy[i];\n",
    "                if(0<=nx && nx < n && 0<= ny && ny < m && visit[nx][ny] == 0){\n",
    "                    visit[nx][ny] == 1;\n",
    "                    # if the current height > it's neighbor, keep the neighbor height \n",
    "                    # if the current height < it's neighbor, set the neighbor height to current height\n",
    "                    q.offer(new Cell(nx,ny,Math.max(now.h, height[nx][ny])));\n",
    "                    ans = ans + Math.max(0,now.h-height[nx][ny]);\n",
    "                }\n",
    "            }\n",
    "        }\n",
    "        return ans;\n",
    "    }\n",
    "}"
   ]
  }
 ],
 "metadata": {
  "kernelspec": {
   "display_name": "Python 3",
   "language": "python",
   "name": "python3"
  },
  "language_info": {
   "codemirror_mode": {
    "name": "ipython",
    "version": 3
   },
   "file_extension": ".py",
   "mimetype": "text/x-python",
   "name": "python",
   "nbconvert_exporter": "python",
   "pygments_lexer": "ipython3",
   "version": "3.6.8"
  }
 },
 "nbformat": 4,
 "nbformat_minor": 2
}
