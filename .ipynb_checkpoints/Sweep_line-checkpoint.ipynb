{
 "cells": [
  {
   "cell_type": "markdown",
   "metadata": {},
   "source": [
    "## Sweep-Line"
   ]
  },
  {
   "cell_type": "markdown",
   "metadata": {},
   "source": [
    "### Type 1: Number of flights in the sky\n",
    "\n",
    "For instance, airplan fly from [1,3],[2,4],[5,6].\n",
    "\n",
    "The idea is split interval into [Start 1][Fall 3]; [Start 2][Fall 4]; [Start 5][Fall 6]. Then sort the time point. For each time point, if it's start, then count++, ow count--.\n",
    "\n",
    "The complexity is O(2nlog2n + 2n) = O(n). O(2nlog2n) is because we have n intervals, and split into 2n before sorting. "
   ]
  },
  {
   "cell_type": "markdown",
   "metadata": {},
   "source": [
    "### Type 2: Height of building "
   ]
  },
  {
   "cell_type": "markdown",
   "metadata": {},
   "source": [
    "![title](photo/sweep_line_building.png)\n"
   ]
  },
  {
   "cell_type": "markdown",
   "metadata": {},
   "source": [
    "Smiliar to sweep line, in the first red building, red height adds to heap, then when red building ends, remove red from heap. Then add purple to heap, then blue, then gree, remove blue only keep purple and gree, remove green, add orange, remove purple, finally, remove orange. So everytime (the time when building start or end), we only check the max height in the current color. "
   ]
  },
  {
   "cell_type": "code",
   "execution_count": null,
   "metadata": {},
   "outputs": [],
   "source": []
  }
 ],
 "metadata": {
  "kernelspec": {
   "display_name": "Python 3",
   "language": "python",
   "name": "python3"
  },
  "language_info": {
   "codemirror_mode": {
    "name": "ipython",
    "version": 3
   },
   "file_extension": ".py",
   "mimetype": "text/x-python",
   "name": "python",
   "nbconvert_exporter": "python",
   "pygments_lexer": "ipython3",
   "version": "3.6.8"
  }
 },
 "nbformat": 4,
 "nbformat_minor": 2
}
