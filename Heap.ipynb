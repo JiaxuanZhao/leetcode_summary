{
 "cells": [
  {
   "cell_type": "markdown",
   "metadata": {},
   "source": [
    "## Heap"
   ]
  },
  {
   "cell_type": "markdown",
   "metadata": {},
   "source": [
    "### Heap - Priority Queue"
   ]
  },
  {
   "cell_type": "markdown",
   "metadata": {},
   "source": [
    "![title](photo/heap.png)"
   ]
  },
  {
   "cell_type": "markdown",
   "metadata": {},
   "source": [
    "Heap is tree. The parent must smaller than two leaves. \n",
    "\n",
    "**Top** O(1) choose the root of the tree"
   ]
  },
  {
   "cell_type": "markdown",
   "metadata": {},
   "source": [
    "**Pop** O(logn) remove the root element from heap. \n",
    "\n",
    "Change 3 with 9, then swift down 9 with 5, then 9 with 7. \n",
    "\n",
    "![title](photo/heap1.png)\n",
    "![title](photo/heap2.png)\n",
    "![title](photo/heap3.png)"
   ]
  },
  {
   "cell_type": "markdown",
   "metadata": {},
   "source": [
    "**Push** O(logn) add new value\n",
    "\n",
    "Add 3 to the leave, then swift up. Change 3 with 7, change 3 with 5. \n",
    "\n",
    "![title](photo/heap4.png)\n",
    "![title](photo/heap5.png)\n",
    "![title](photo/heap6.png)"
   ]
  },
  {
   "cell_type": "markdown",
   "metadata": {},
   "source": [
    "When save tree to array, change to [3,20,5,27,29,9,7]. The index for 5 is x, then index for 9 is 2x+1, index for 7 is 2x+2."
   ]
  },
  {
   "cell_type": "markdown",
   "metadata": {},
   "source": [
    "### Sift up"
   ]
  },
  {
   "cell_type": "code",
   "execution_count": null,
   "metadata": {},
   "outputs": [],
   "source": [
    "void siftup(int id){\n",
    "    while(parent(id) > -1){\n",
    "        int parentId = parent(id);\n",
    "        if(comparesmall(heap.get(parentID), heap.get(id)) == true){\n",
    "            break;\n",
    "        }else{\n",
    "            swap(id, parentId);\n",
    "        }\n",
    "        id = parentId;\n",
    "    }\n",
    "}"
   ]
  },
  {
   "cell_type": "markdown",
   "metadata": {},
   "source": [
    "### Sift down"
   ]
  },
  {
   "cell_type": "code",
   "execution_count": null,
   "metadata": {},
   "outputs": [],
   "source": [
    "void siftdown(int id){\n",
    "    while(lson(id) < heap.size()){\n",
    "        int leftId = lson(id);\n",
    "        int rightId = rson(id);\n",
    "        int son;\n",
    "        # if left smaller than right, then son is left. \n",
    "        if(rightId >= heap.size() || (compareSmall(heap.get(leftId), heap.get(rightId) == true))){\n",
    "            son = leftId;\n",
    "        }else {\n",
    "            son = rightId;\n",
    "        }\n",
    "        # if id is smaller then son, so no change\n",
    "        if(compareSmall(heap.get(id), heap.get(son)) == true){\n",
    "            break;\n",
    "        }else{\n",
    "            swap(id, son);\n",
    "        }\n",
    "        id = son;\n",
    "    }\n",
    "}"
   ]
  },
  {
   "cell_type": "markdown",
   "metadata": {},
   "source": [
    "### HashHeap"
   ]
  },
  {
   "cell_type": "markdown",
   "metadata": {},
   "source": [
    "The improve is on `remove`. In priority queue, the remove is O(n) beacause we need `for` to scan through the tree and find the node to delete. However, in HashHeap, the remove is O(logn).\n",
    "\n",
    "We put the node in a hash table, the key is the value in the node, the value is the pointer of that number in the tree. So we don't need to use `for` to scan, just find the key, swap and remove node (O(1)). Then only the swift up and down take O(logn). "
   ]
  },
  {
   "cell_type": "markdown",
   "metadata": {},
   "source": [
    "### Type 1: Find median in each temp array. "
   ]
  },
  {
   "cell_type": "markdown",
   "metadata": {},
   "source": [
    "A[1,2,7] + then add [3] + then add [8] etc. \n",
    "\n",
    "First we have [1,2,7]. The left is [1], median is [2], left is [7]. When [3] adds in, compare it with [2], its larger so add to [7] = [3,7]. Then since right.length = right.length + 1, so median stay the same. \n",
    "\n",
    "Second, we add [8], its larger than [2], so add to right [3,7,8]. Since  right.length $\\neq$ right.length + 1, then we need to shift [2] to left, and set median to [3]. \n",
    "\n",
    "Add value is O(1) + O(log(n)) since we need to compare then add (swift) so is O(1) + O(log(n)). Then move the old median and set new median which is also O(logn). Repeat for each new number, total n times. So total is O(nlogn)."
   ]
  },
  {
   "cell_type": "markdown",
   "metadata": {},
   "source": [
    "### Type 2: Sliding window median"
   ]
  },
  {
   "cell_type": "markdown",
   "metadata": {},
   "source": [
    "[1,2,7,8,5] k = 3 (3 elements in window). \n",
    "\n",
    "First, [1,2,7]; add [8] to [1,2,7,8]; delete [1] to [2,7,8]. In [1,2,8], maxheap is [1], median is [2], minheap is [7]. Add [8], then maxHashHeap is [1], median is [2], minHashHeap is [7,8]; so we need to remove maxHashHeap [1]. Then shift [2] to maxHashHeap. Median is [7], minHashHeap is [8]. \n",
    "\n",
    "Add each item is O(logk), remove each iterm is O(logk). Since k elements in each frame, and total n shift, so is O(nlogk)."
   ]
  },
  {
   "cell_type": "markdown",
   "metadata": {},
   "source": [
    "### Type 3: Sliding window max"
   ]
  },
  {
   "cell_type": "markdown",
   "metadata": {},
   "source": [
    "We will use Deque. \n",
    "\n",
    "[1,2,7,8,5] k = 3"
   ]
  },
  {
   "cell_type": "code",
   "execution_count": null,
   "metadata": {},
   "outputs": [],
   "source": [
    "# First, we can use two for loop. \n",
    "\n",
    "# O(nk)\n",
    "for i = 0 to n\n",
    "    for j = i to i + k\n",
    "        Fint the max"
   ]
  },
  {
   "cell_type": "code",
   "execution_count": null,
   "metadata": {},
   "outputs": [],
   "source": [
    "Optimize method 2.\n",
    "\n",
    "Start with [1,2,7]; add 8 [1,2,7,8], use HashHeap remove [1]. \n",
    "Complexity is O(nlogk). "
   ]
  },
  {
   "cell_type": "markdown",
   "metadata": {},
   "source": [
    "Optimize method 3 with Deque (can remove first and last item).\n",
    "\n",
    "[1,2,7,8,5,3,2]\n",
    "\n",
    "Start with [1], add [2], remove [1], add [7], remove [2], only [7] left. Add [8], remove [7]. When add [8], need to remove [1] since the window is sliding. But [1] already deleted. Add [5] to [8,5], delete [2] but [2] already deleted. Then add [3] to [8,5,3] and delet already deleted [7]. \n",
    "Now add [2] to [8,5,3,2] and delete [8]. "
   ]
  },
  {
   "cell_type": "code",
   "execution_count": null,
   "metadata": {},
   "outputs": [],
   "source": [
    "void inQueue(Deque<Integer> deque, int num){\n",
    "    \n",
    "    # if the current value is larger than the deque[last], remove deque[last]\n",
    "    # remove until the list is empty\n",
    "    while(!deque.isEmpty() && deque.peekLast() < num){\n",
    "        deque.pollLast();\n",
    "    }\n",
    "    # when the list is empty add the new value\n",
    "    deque.offer(num);\n",
    "}\n",
    "\n",
    "void outQueue(Deque<Integer> deque, int num){\n",
    "    # make sure the num that needs to delete is the first item.\n",
    "    # for instance, in previous example, [1,2] already got deleted.\n",
    "    # only [7] in the list, delete [1] before add [8]. However, \n",
    "    # [1] already got deleted, so no need to remove again. \n",
    "    if(deque.peekFirst() == num){\n",
    "        deque.pollFirst();\n",
    "    }\n",
    "    deque.offer(num);\n",
    "}\n",
    "\n",
    "public ArrayList<Integer> maxSlidingWindow(int[] nums, int k){\n",
    "    ArrayList<Integer> ans = new ArrayList<Integer>();\n",
    "    Deque<Integer> deque = new ArrayDeque<Integer>();\n",
    "    \n",
    "    if(nums.length == 0){\n",
    "        return ans;\n",
    "    }\n",
    "    \n",
    "    for(int i = 0; i < k - 1; i++){\n",
    "        inQueue(deque, nums[i])\n",
    "    }\n",
    "    \n",
    "    for(int i = k-1; i < nums.length; i++){\n",
    "        inQueue(deque, nums[i]);\n",
    "        ans.add(deque.peekFirst());\n",
    "        outQueue(deque, nums[i - k + 1]);\n",
    "    }\n",
    "    return ans;\n",
    "}"
   ]
  }
 ],
 "metadata": {
  "kernelspec": {
   "display_name": "Python 3",
   "language": "python",
   "name": "python3"
  },
  "language_info": {
   "codemirror_mode": {
    "name": "ipython",
    "version": 3
   },
   "file_extension": ".py",
   "mimetype": "text/x-python",
   "name": "python",
   "nbconvert_exporter": "python",
   "pygments_lexer": "ipython3",
   "version": "3.6.8"
  }
 },
 "nbformat": 4,
 "nbformat_minor": 2
}
