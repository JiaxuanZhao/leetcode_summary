{
 "cells": [
  {
   "cell_type": "markdown",
   "metadata": {},
   "source": [
    "## Two sum template"
   ]
  },
  {
   "cell_type": "code",
   "execution_count": null,
   "metadata": {},
   "outputs": [],
   "source": [
    "# Give a list A, need to find numebr of times A[i], A[j] > the sum, or = the sum, etc.\n",
    "\n",
    "sort A;\n",
    "\n",
    "int left = 0, right = A.length-1\n",
    "while(left < right){\n",
    "    if(A[left] and A[right] satisfy some condition){\n",
    "        # do something\n",
    "        right --;\n",
    "    }else if(A[left] and A[right] does not satisfy some condition){\n",
    "        left ++;\n",
    "    }\n",
    "}"
   ]
  },
  {
   "cell_type": "markdown",
   "metadata": {},
   "source": [
    "### Type 1: find number of times sum of index in A > target."
   ]
  },
  {
   "cell_type": "code",
   "execution_count": null,
   "metadata": {},
   "outputs": [],
   "source": [
    "# O(nlogn) + O(n) = O(nlogn)\n",
    "public int twoSum2(int[] nums, int target){\n",
    "    Arrays.sort(num); # O(nlogn)\n",
    "    int left = 0, right = nums.length - 1;\n",
    "    int ans = 0;\n",
    "    while(left < right){  # O(n)\n",
    "        if(nums[left] + nums[right] > target){\n",
    "            ans = ans + right - left;\n",
    "            right --;\n",
    "        }else{\n",
    "            left ++ ;\n",
    "        }\n",
    "    }\n",
    "    return ans;\n",
    "}"
   ]
  },
  {
   "cell_type": "markdown",
   "metadata": {},
   "source": [
    "### Type 2: find number of times the index in A can form triangle. \n"
   ]
  },
  {
   "cell_type": "markdown",
   "metadata": {},
   "source": [
    "Normally, we will start with three for loop, i, j, k for three triangle sides. ijk all from 0 to S.length-1. However, image this case, if i = 1, j = 2, k = 3; then i = 3, j = 1, k = 2, these two cases are indentical. Thus, we don't need ijk from 0 to S.length - 1, but i = 1 ~ S.length - 1; j = 0 ~ i; k = 0 ~ j. \n",
    "\n",
    "Then, to become triangle, we need A[i] + A[j] > A[k]; A[i] + A[k] > A[j]; A[k] + A[j] > A[i] \n",
    "\n",
    "Thus, "
   ]
  },
  {
   "cell_type": "code",
   "execution_count": null,
   "metadata": {},
   "outputs": [],
   "source": [
    "for i = 0 to S.length-1:\n",
    "    for j = 0 to i:\n",
    "        for k = 0 to j:\n",
    "            if A[i] + A[j] > A[k]\n",
    "            if A[i] + A[k] > A[j]\n",
    "            if A[k] + A[j] > A[i]\n",
    "            then ans ++ "
   ]
  },
  {
   "cell_type": "markdown",
   "metadata": {},
   "source": [
    "Then, since i bigger than k and j, then A[i] + A[j] > A[k] and A[i] + A[k] > A[j] is right. \n",
    "\n",
    "Thus,"
   ]
  },
  {
   "cell_type": "code",
   "execution_count": null,
   "metadata": {},
   "outputs": [],
   "source": [
    "for i = 0 to S.length-1:\n",
    "    for j = 0 to i:\n",
    "        for k = 0 to j:\n",
    "            if A[k] + A[j] > A[i]\n",
    "            then ans ++ "
   ]
  },
  {
   "cell_type": "markdown",
   "metadata": {},
   "source": [
    "Similar to two sum. \n",
    "\n",
    "Thus,"
   ]
  },
  {
   "cell_type": "code",
   "execution_count": null,
   "metadata": {},
   "outputs": [],
   "source": [
    "# O(n^2)\n",
    "public int triangleCount(int S[]){\n",
    "    Arrays.sort(S); # O(nlogn)\n",
    "    int left = 0, right = nums.length - 1;\n",
    "    int ans = 0;\n",
    "    \n",
    "    for(int i = 0; i < S.length; i++){ # O(n)\n",
    "        left = 0; \n",
    "        right = i - 1;\n",
    "        \n",
    "        while(left < right){ # O(n)\n",
    "            if(S[left] + S[right] > target){\n",
    "                ans = ans + right - left;\n",
    "                right --;\n",
    "            }else{\n",
    "                left ++ ;\n",
    "            }\n",
    "        }\n",
    "    }\n",
    "    return ans;\n",
    "}"
   ]
  }
 ],
 "metadata": {
  "kernelspec": {
   "display_name": "Python 3",
   "language": "python",
   "name": "python3"
  },
  "language_info": {
   "codemirror_mode": {
    "name": "ipython",
    "version": 3
   },
   "file_extension": ".py",
   "mimetype": "text/x-python",
   "name": "python",
   "nbconvert_exporter": "python",
   "pygments_lexer": "ipython3",
   "version": "3.6.8"
  }
 },
 "nbformat": 4,
 "nbformat_minor": 2
}
