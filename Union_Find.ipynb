{
 "cells": [
  {
   "cell_type": "markdown",
   "metadata": {},
   "source": [
    "## Union Find"
   ]
  },
  {
   "cell_type": "markdown",
   "metadata": {},
   "source": [
    "**Union, Find: O(1)**\n",
    "\n",
    "The point is to:\n",
    "- find whethe two points are in the same union. Find the root of item.\n",
    "- Combine lists. "
   ]
  },
  {
   "cell_type": "markdown",
   "metadata": {},
   "source": [
    "For instance, AC point to B, DF opint to E, E point to B.\n",
    "Use hash table:\n",
    "    \n",
    "key: A B C D E F   \n",
    "val: B B B E B E"
   ]
  },
  {
   "cell_type": "markdown",
   "metadata": {},
   "source": [
    "### Find Template "
   ]
  },
  {
   "cell_type": "code",
   "execution_count": null,
   "metadata": {},
   "outputs": [],
   "source": [
    "# O(n)\n",
    "HashMap<Integer, Integer> father = new Hashmap<Integer, Integer>();\n",
    "\n",
    "int find(int x){\n",
    "    int parent = x;\n",
    "    while(parent != father.get(parent)){\n",
    "        parent = father.get(parent);\n",
    "    }\n",
    "    return parent;\n",
    "}"
   ]
  },
  {
   "cell_type": "markdown",
   "metadata": {},
   "source": [
    "### Union(A, B) Template"
   ]
  },
  {
   "cell_type": "markdown",
   "metadata": {},
   "source": [
    "- Find the boss of A, B.\n",
    "- Set A boss parent to B boss."
   ]
  },
  {
   "cell_type": "code",
   "execution_count": null,
   "metadata": {},
   "outputs": [],
   "source": [
    "# O(n)\n",
    "void union(int x, int y){\n",
    "    int fa_x = find(x);\n",
    "    int fa_y = finnd(y);\n",
    "    if(fa_x != fa_y){\n",
    "        father.put(fa_x, fa_y);\n",
    "    }\n",
    "}"
   ]
  },
  {
   "cell_type": "markdown",
   "metadata": {},
   "source": [
    "### Type 1: Find connected item in undirected graph"
   ]
  },
  {
   "cell_type": "markdown",
   "metadata": {},
   "source": [
    "Find the chunck in list. For instance ABD, CE, then two chunks. \n",
    "\n",
    "Use **bfs** or that **dfs** (https://zhuanlan.zhihu.com/p/24986203). Find all the item connect to A and assign val = A. Then we know ABD already have val = A, then we skip BD and move to C and assign C to CE.\n",
    "\n",
    "key: A B C D E \n",
    "val: A A C A C"
   ]
  },
  {
   "cell_type": "code",
   "execution_count": null,
   "metadata": {},
   "outputs": [],
   "source": []
  }
 ],
 "metadata": {
  "kernelspec": {
   "display_name": "Python 3",
   "language": "python",
   "name": "python3"
  },
  "language_info": {
   "codemirror_mode": {
    "name": "ipython",
    "version": 3
   },
   "file_extension": ".py",
   "mimetype": "text/x-python",
   "name": "python",
   "nbconvert_exporter": "python",
   "pygments_lexer": "ipython3",
   "version": "3.6.8"
  }
 },
 "nbformat": 4,
 "nbformat_minor": 2
}
