{
 "cells": [
  {
   "cell_type": "markdown",
   "metadata": {},
   "source": [
    "## Two pointer"
   ]
  },
  {
   "cell_type": "code",
   "execution_count": null,
   "metadata": {},
   "outputs": [],
   "source": [
    "public int removeElement(int[] nums, int val) {\n",
    "        \n",
    "        if(nums.length < ) return nums.length;\n",
    "    \n",
    "        int current = ;\n",
    "        # i is the pointer that search for non val index. \n",
    "        # Once u find index that not the target, you replace\n",
    "        for(int i = ; i < nums.length; i++){\n",
    "            if(nums[i] != val){\n",
    "                #  nums[current] = nums[i]; current++;\n",
    "                nums[current++] = nums[i]; \n",
    "            }\n",
    "        }\n",
    "        return current;\n",
    "    }"
   ]
  },
  {
   "cell_type": "markdown",
   "metadata": {},
   "source": [
    "### Type 1: Remove target val from array"
   ]
  },
  {
   "cell_type": "markdown",
   "metadata": {},
   "source": [
    "Given array [1,3,4,3,5], val = 3. Want to remove 3 and return the array length. \n",
    "\n",
    "The idea is to have two pointers, one point to the indx that need to remove, the other scan through the array to find the next item to replace the remove one. \n",
    "\n",
    "For i,j start from 0; if the current item need to remove, then j point to the current item, then i move to next, if i still point to the target, then keep moving until find the one not target. At this time, i point to non target, j point to target, store array[i] to array[j]. And j++.  "
   ]
  },
  {
   "cell_type": "code",
   "execution_count": null,
   "metadata": {},
   "outputs": [],
   "source": []
  }
 ],
 "metadata": {
  "kernelspec": {
   "display_name": "Python 3",
   "language": "python",
   "name": "python3"
  },
  "language_info": {
   "codemirror_mode": {
    "name": "ipython",
    "version": 3
   },
   "file_extension": ".py",
   "mimetype": "text/x-python",
   "name": "python",
   "nbconvert_exporter": "python",
   "pygments_lexer": "ipython3",
   "version": "3.6.8"
  }
 },
 "nbformat": 4,
 "nbformat_minor": 2
}
